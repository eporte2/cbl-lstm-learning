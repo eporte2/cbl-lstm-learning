{
 "cells": [
  {
   "cell_type": "code",
   "execution_count": 2,
   "metadata": {},
   "outputs": [
    {
     "name": "stderr",
     "output_type": "stream",
     "text": [
      "Using TensorFlow backend.\n"
     ]
    }
   ],
   "source": [
    "import os\n",
    "import sys\n",
    "# insert at 1, 0 is the script path (or '' in REPL)\n",
    "sys.path.insert(1, '../src')\n",
    "import csv\n",
    "from keras.preprocessing.text import Tokenizer\n",
    "from keras.models import load_model\n",
    "from keras.preprocessing.sequence import pad_sequences\n",
    "import numpy as np\n"
   ]
  },
  {
   "cell_type": "code",
   "execution_count": 84,
   "metadata": {},
   "outputs": [],
   "source": [
    "\n",
    "word_list = \"../../../data/transcripts/eng/aoa_words.csv\"\n",
    "model_dir = \"../../../models\"\n",
    "result_dir = \".\""
   ]
  },
  {
   "cell_type": "code",
   "execution_count": 91,
   "metadata": {},
   "outputs": [],
   "source": [
    "\n",
    "class AoAWord:\n",
    "    def __init__(self, word, wordbank_id, maxlen, vocab):\n",
    "        self.word = word\n",
    "        self.wordbank_id = wordbank_id\n",
    "        self.id = -1\n",
    "        self.maxlen = maxlen\n",
    "        self.contexts = []\n",
    "        self.surprisals = []\n",
    "        if word in vocab:\n",
    "            self.id = vocab[word]\n",
    "        \n",
    "    def get_contexts_surprisals(self, sequences, model):\n",
    "        if not self.id == -1:\n",
    "            contexts = []\n",
    "            for seq in sequences:\n",
    "                if self.id in seq:\n",
    "                    context = []\n",
    "                    for w in seq:\n",
    "                        if w == self.id:\n",
    "                            break\n",
    "                        context.append(w)  \n",
    "                    context.append(self.id)\n",
    "                    contexts.append(context)\n",
    "            contexts = pad_sequences(contexts, maxlen=self.maxlen, padding='pre')\n",
    "            self.contexts= np.array(contexts)\n",
    "            X, y = self.contexts[:,:-1],self.contexts[:,-1]\n",
    "            p_pred = model.predict(X) \n",
    "            for i, prob in enumerate(p_pred):\n",
    "                self.surprisals.append(-np.log(prob[y[i]]))\n",
    "                \n",
    "                \n",
    "    def get_avg_surprisal(self, sequences, model):\n",
    "        score = 0.0\n",
    "        if not self.contexts:\n",
    "            self.get_contexts_surprisals(sequences, model)\n",
    "        if len(self.surprisals) == 0:\n",
    "            return \"NA\"\n",
    "        else:\n",
    "            for surprisal in self.surprisals:\n",
    "                score += surprisal\n",
    "            score = score/len(self.surprisals)\n",
    "            return score\n",
    "        "
   ]
  },
  {
   "cell_type": "code",
   "execution_count": 92,
   "metadata": {},
   "outputs": [],
   "source": [
    "def get_model_train_test():\n",
    "    data = []\n",
    "    for subdir, dirs, files in os.walk(model_dir):\n",
    "        for file in files:\n",
    "            if ('.h5' in file):\n",
    "                model_file = subdir + '/' + file\n",
    "                this_model = load_model(model_file)\n",
    "                childname = file.split('_model.h5')[0]\n",
    "                trainfile = subdir +'/train/' + childname + '.train.txt'\n",
    "                testfile = subdir + '/test/' + childname + '.test.txt'\n",
    "                with open(trainfile, 'r') as f:\n",
    "                    train = f.readlines()\n",
    "                with open(testfile, 'r') as f:\n",
    "                    test = f.readlines()\n",
    "                data.append((childname, this_model, train, test))\n",
    "    return data"
   ]
  },
  {
   "cell_type": "code",
   "execution_count": 93,
   "metadata": {},
   "outputs": [],
   "source": [
    "\n",
    "words = []\n",
    "with open(word_list) as file:\n",
    "    reader = csv.reader(file, delimiter='\\t')\n",
    "    reader.__next__()\n",
    "    for row in reader:\n",
    "        words.append([row[0], int(row[1])])"
   ]
  },
  {
   "cell_type": "code",
   "execution_count": 95,
   "metadata": {},
   "outputs": [
    {
     "name": "stdout",
     "output_type": "stream",
     "text": [
      "PREPARE DATA FOR: Will\n",
      "\n"
     ]
    }
   ],
   "source": [
    "data = get_model_train_test()\n",
    "aoa_corpus = dict()\n",
    "for childname, model, train, test in data:\n",
    "    print('PREPARE DATA FOR: ' + childname + '\\n')\n",
    "    # Get vocabulary\n",
    "    tokenizer = Tokenizer()\n",
    "    tokenizer.fit_on_texts(train + test)\n",
    "    vocab = tokenizer.word_index\n",
    "    #print(vocab)\n",
    "    seqs = tokenizer.texts_to_sequences(train)\n",
    "    maxlen = max([len(seq) for seq in seqs])\n",
    "    aoa_words = dict()\n",
    "    for word,wordbank_id in words:\n",
    "        aoa_words[wordbank_id] = AoAWord(word, wordbank_id, maxlen, vocab)\n",
    "    aoa_corpus[childname] = aoa_words\n",
    "    \n",
    "        # write all results to the result_dir\n",
    "    with open(result_dir + '/' + childname + '.aoa_result.csv', 'w') as f:\n",
    "        f.write(\"num_item_id, uni_lemma, avg_surprisal\" + '\\n')\n",
    "        for id in aoa_words:\n",
    "            f.write(str(id) + ',' +\n",
    "                    aoa_words[id].word + ',' +\n",
    "                    str(aoa_words[id].get_avg_surprisal(seqs, model)) + '\\n')\n",
    "    \n",
    "    "
   ]
  },
  {
   "cell_type": "code",
   "execution_count": null,
   "metadata": {},
   "outputs": [],
   "source": []
  }
 ],
 "metadata": {
  "kernelspec": {
   "display_name": "Python 3",
   "language": "python",
   "name": "python3"
  },
  "language_info": {
   "codemirror_mode": {
    "name": "ipython",
    "version": 3
   },
   "file_extension": ".py",
   "mimetype": "text/x-python",
   "name": "python",
   "nbconvert_exporter": "python",
   "pygments_lexer": "ipython3",
   "version": "3.7.3"
  }
 },
 "nbformat": 4,
 "nbformat_minor": 2
}
